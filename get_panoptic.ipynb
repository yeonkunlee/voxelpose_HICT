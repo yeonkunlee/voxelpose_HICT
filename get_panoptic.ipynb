{
 "cells": [
  {
   "cell_type": "code",
   "execution_count": 1,
   "id": "2922058d",
   "metadata": {},
   "outputs": [],
   "source": [
    "# !git clone https://github.com/CMU-Perceptual-Computing-Lab/panoptic-toolbox\n",
    "# %cd panoptic-toolbox\n",
    "# !./scripts/getData.sh 171204_pose1_sample\n",
    "# !./scripts/extractAll.sh 171204_pose1_sample"
   ]
  },
  {
   "cell_type": "code",
   "execution_count": 1,
   "id": "061f553c",
   "metadata": {},
   "outputs": [
    {
     "name": "stdout",
     "output_type": "stream",
     "text": [
      "/workspace/voxelpose-pytorch/data/panoptic-toolbox\n"
     ]
    }
   ],
   "source": [
    "# %cd data/panoptic-toolbox/"
   ]
  },
  {
   "cell_type": "code",
   "execution_count": 2,
   "id": "6a7d4783",
   "metadata": {
    "scrolled": true
   },
   "outputs": [],
   "source": [
    "# !./scripts/getDB_panoptic_ver1_2.sh # (3, 6, 12, 13, 23)"
   ]
  },
  {
   "cell_type": "code",
   "execution_count": 1,
   "id": "75d52b23",
   "metadata": {},
   "outputs": [
    {
     "name": "stdout",
     "output_type": "stream",
     "text": [
      "/datasets_2/panoptic-toolbox\n"
     ]
    }
   ],
   "source": [
    "%cd /datasets_2/panoptic-toolbox/"
   ]
  },
  {
   "cell_type": "code",
   "execution_count": null,
   "id": "b2e77ebb",
   "metadata": {},
   "outputs": [],
   "source": []
  },
  {
   "cell_type": "code",
   "execution_count": 2,
   "id": "4c6d34a6",
   "metadata": {},
   "outputs": [],
   "source": [
    "import os\n",
    "import numpy as np\n",
    "import glob"
   ]
  },
  {
   "cell_type": "code",
   "execution_count": 6,
   "id": "9571c43c",
   "metadata": {},
   "outputs": [],
   "source": [
    "dir_list = glob.glob(os.path.join('/datasets_2/panoptic-toolbox/data/*'))\n",
    "dir_list.sort()\n",
    "dir_list_basename = [os.path.basename(x) for x in dir_list]\n",
    "len(dir_list_basename)\n",
    "dir_list_basename.sort()\n",
    "# dir_list_basename[:-7]\n",
    "# dir_list_basename"
   ]
  },
  {
   "cell_type": "code",
   "execution_count": 7,
   "id": "deabf036",
   "metadata": {
    "scrolled": true
   },
   "outputs": [
    {
     "data": {
      "text/plain": [
       "['160224_haggling1',\n",
       " '160224_mafia1',\n",
       " '160224_mafia2',\n",
       " '160224_ultimatum1',\n",
       " '160224_ultimatum2',\n",
       " '160226_haggling1',\n",
       " '160226_mafia1',\n",
       " '160226_mafia2',\n",
       " '160226_ultimatum1',\n",
       " '160401_ian1',\n",
       " '160401_ian2',\n",
       " '160401_ian3',\n",
       " '160422_haggling1',\n",
       " '160422_mafia2',\n",
       " '160422_ultimatum1',\n",
       " '160906_band1',\n",
       " '160906_band2',\n",
       " '160906_ian1',\n",
       " '160906_ian2',\n",
       " '160906_ian3',\n",
       " '160906_ian5',\n",
       " '160906_pizza1',\n",
       " '161029_flute1',\n",
       " '161029_piano1',\n",
       " '161029_piano2',\n",
       " '161029_piano3',\n",
       " '161029_piano4',\n",
       " '170221_haggling_b2',\n",
       " '170221_haggling_b3',\n",
       " '170221_haggling_m1',\n",
       " '170221_haggling_m2',\n",
       " '170221_haggling_m3',\n",
       " '170224_haggling_a1',\n",
       " '170224_haggling_a2',\n",
       " '170224_haggling_a3',\n",
       " '170224_haggling_b1',\n",
       " '170224_haggling_b2',\n",
       " '170224_haggling_b3',\n",
       " '170228_haggling_a1',\n",
       " '170228_haggling_a2',\n",
       " '170228_haggling_a3',\n",
       " '170228_haggling_b1',\n",
       " '170228_haggling_b2',\n",
       " '170228_haggling_b3',\n",
       " '170307_dance1',\n",
       " '170307_dance2',\n",
       " '170307_dance3',\n",
       " '170307_dance4',\n",
       " '170307_dance5',\n",
       " '170307_dance6',\n",
       " '170404_haggling_a1',\n",
       " '170404_haggling_a2',\n",
       " '170404_haggling_a3',\n",
       " '170404_haggling_b1',\n",
       " '170404_haggling_b2',\n",
       " '170404_haggling_b3',\n",
       " '170407_haggling_a1',\n",
       " '170407_haggling_a2',\n",
       " '170407_haggling_a3',\n",
       " '170407_haggling_b1',\n",
       " '170407_haggling_b2',\n",
       " '170407_haggling_b3',\n",
       " '170407_office2',\n",
       " '170915_office1',\n",
       " '170915_toddler2',\n",
       " '170915_toddler3',\n",
       " '170915_toddler4',\n",
       " '171026_cello1',\n",
       " '171026_cello2',\n",
       " '171026_cello3',\n",
       " '171026_pose1',\n",
       " '171026_pose2',\n",
       " '171026_pose3',\n",
       " '171204_pose1',\n",
       " '171204_pose1_sample',\n",
       " '171204_pose2',\n",
       " '171204_pose3',\n",
       " '171204_pose4',\n",
       " '171204_pose5',\n",
       " '171204_pose6',\n",
       " 'group_train_cam5.pkl',\n",
       " 'group_validation_cam5.pkl']"
      ]
     },
     "execution_count": 7,
     "metadata": {},
     "output_type": "execute_result"
    }
   ],
   "source": [
    "dir_list_basename"
   ]
  },
  {
   "cell_type": "code",
   "execution_count": null,
   "id": "f4fbd64e",
   "metadata": {},
   "outputs": [],
   "source": []
  },
  {
   "cell_type": "code",
   "execution_count": null,
   "id": "eb51d1e3",
   "metadata": {},
   "outputs": [],
   "source": []
  },
  {
   "cell_type": "code",
   "execution_count": 16,
   "id": "d23b2144",
   "metadata": {},
   "outputs": [
    {
     "data": {
      "text/plain": [
       "48"
      ]
     },
     "execution_count": 16,
     "metadata": {},
     "output_type": "execute_result"
    }
   ],
   "source": [
    "len(dir_list_basename[:-7])"
   ]
  },
  {
   "cell_type": "code",
   "execution_count": 8,
   "id": "6064c64b",
   "metadata": {},
   "outputs": [],
   "source": [
    "all_seq_list = dir_list_basename[:-7]"
   ]
  },
  {
   "cell_type": "code",
   "execution_count": 15,
   "id": "ae3cabe4",
   "metadata": {},
   "outputs": [
    {
     "name": "stdout",
     "output_type": "stream",
     "text": [
      "48\n"
     ]
    }
   ],
   "source": [
    "root_dir = '/workspace/voxelpose-pytorch/data/panoptic-toolbox'\n",
    "root_dir = '/datasets_2/panoptic-toolbox/'\n",
    "exist_seq_list = []\n",
    "for seq in all_seq_list:\n",
    "    hdVideos_dir = os.path.join(root_dir, seq, 'hdVideos')\n",
    "    existence_03 = os.path.exists(os.path.join(hdVideos_dir, 'hd_00_03.mp4'))\n",
    "    existence_06 = os.path.exists(os.path.join(hdVideos_dir, 'hd_00_06.mp4'))\n",
    "    existence_12 = os.path.exists(os.path.join(hdVideos_dir, 'hd_00_12.mp4'))\n",
    "    existence_13 = os.path.exists(os.path.join(hdVideos_dir, 'hd_00_13.mp4'))\n",
    "    existence_23 = os.path.exists(os.path.join(hdVideos_dir, 'hd_00_23.mp4'))\n",
    "    \n",
    "    count = existence_03 + existence_06 + existence_12 + existence_13 + existence_23\n",
    "    \n",
    "    if count == 5:\n",
    "        exist_seq_list.append(seq)\n",
    "    else:\n",
    "        print('seq {} has no 5 videos!'.format(seq))\n",
    "\n",
    "print(len(exist_seq_list))"
   ]
  },
  {
   "cell_type": "code",
   "execution_count": 11,
   "id": "3edc3c7d",
   "metadata": {},
   "outputs": [],
   "source": [
    "# import subprocess"
   ]
  },
  {
   "cell_type": "code",
   "execution_count": 12,
   "id": "3b8b0ad7",
   "metadata": {},
   "outputs": [
    {
     "data": {
      "text/plain": [
       "0"
      ]
     },
     "execution_count": 12,
     "metadata": {},
     "output_type": "execute_result"
    }
   ],
   "source": [
    "# subprocess.call(['./scripts/extractAll.sh', all_seq_list[0]])"
   ]
  },
  {
   "cell_type": "code",
   "execution_count": 13,
   "id": "d4f65be2",
   "metadata": {},
   "outputs": [],
   "source": [
    "# for i in range(1,len(all_seq_list)):\n",
    "#     subprocess.call(['./scripts/extractAll.sh', all_seq_list[i]])"
   ]
  },
  {
   "cell_type": "code",
   "execution_count": null,
   "id": "ae25d8fb",
   "metadata": {},
   "outputs": [],
   "source": [
    "#!./scripts/extractAll.sh\t170221_haggling_b1"
   ]
  },
  {
   "cell_type": "code",
   "execution_count": 18,
   "id": "f9e3f406",
   "metadata": {},
   "outputs": [
    {
     "data": {
      "text/plain": [
       "['160401_ian1',\n",
       " '160401_ian2',\n",
       " '160401_ian3',\n",
       " '160906_ian1',\n",
       " '160906_ian2',\n",
       " '160906_ian3',\n",
       " '160906_ian5',\n",
       " '160906_pizza1',\n",
       " '170221_haggling_b2',\n",
       " '170221_haggling_b3',\n",
       " '170221_haggling_m1',\n",
       " '170221_haggling_m2',\n",
       " '170221_haggling_m3',\n",
       " '170224_haggling_a1',\n",
       " '170224_haggling_a2',\n",
       " '170224_haggling_a3',\n",
       " '170224_haggling_b1',\n",
       " '170224_haggling_b2',\n",
       " '170224_haggling_b3',\n",
       " '170228_haggling_a1',\n",
       " '170228_haggling_a2',\n",
       " '170228_haggling_a3',\n",
       " '170228_haggling_b1',\n",
       " '170228_haggling_b2',\n",
       " '170228_haggling_b3',\n",
       " '170307_dance1',\n",
       " '170307_dance2',\n",
       " '170307_dance3',\n",
       " '170307_dance4',\n",
       " '170307_dance5',\n",
       " '170307_dance6',\n",
       " '170404_haggling_a1',\n",
       " '170404_haggling_a2',\n",
       " '170404_haggling_a3',\n",
       " '170404_haggling_b1',\n",
       " '170404_haggling_b2',\n",
       " '170404_haggling_b3',\n",
       " '170407_haggling_a1',\n",
       " '170407_haggling_a2',\n",
       " '170407_haggling_a3',\n",
       " '170407_haggling_b1',\n",
       " '170407_haggling_b2',\n",
       " '170407_haggling_b3',\n",
       " '170407_office2',\n",
       " '170915_office1',\n",
       " '170915_toddler2',\n",
       " '170915_toddler3',\n",
       " '170915_toddler4']"
      ]
     },
     "execution_count": 18,
     "metadata": {},
     "output_type": "execute_result"
    }
   ],
   "source": [
    "exist_seq_list"
   ]
  },
  {
   "cell_type": "code",
   "execution_count": 20,
   "id": "2877c58f",
   "metadata": {},
   "outputs": [],
   "source": [
    "import shutil"
   ]
  },
  {
   "cell_type": "code",
   "execution_count": 23,
   "id": "5b1f60fc",
   "metadata": {
    "scrolled": true
   },
   "outputs": [],
   "source": [
    "# root_dir = '/datasets_2/panoptic-toolbox/'\n",
    "# for seq in exist_seq_list:\n",
    "#     hdVideos_dir = os.path.join(root_dir, seq, 'hdVideos')\n",
    "#     print(hdVideos_dir)\n",
    "#     shutil.rmtree(hdVideos_dir)"
   ]
  },
  {
   "cell_type": "code",
   "execution_count": 24,
   "id": "0ae7797c",
   "metadata": {},
   "outputs": [],
   "source": [
    "# # move files\n",
    "# root_dir = '/datasets_2/panoptic-toolbox/'\n",
    "# for seq in all_seq_list:\n",
    "#     seq_src_dir = os.path.join(root_dir, seq)\n",
    "#     seq_dst_dir = os.path.join(root_dir, 'data', seq)\n",
    "#     print(seq_dst_dir)\n",
    "#     shutil.move(seq_src_dir, seq_dst_dir)"
   ]
  },
  {
   "cell_type": "code",
   "execution_count": null,
   "id": "da38c48b",
   "metadata": {},
   "outputs": [],
   "source": []
  },
  {
   "cell_type": "code",
   "execution_count": null,
   "id": "180710fb",
   "metadata": {},
   "outputs": [],
   "source": []
  },
  {
   "cell_type": "code",
   "execution_count": null,
   "id": "bad8fb5f",
   "metadata": {},
   "outputs": [],
   "source": []
  },
  {
   "cell_type": "code",
   "execution_count": 6,
   "id": "2b5d83a8",
   "metadata": {},
   "outputs": [
    {
     "data": {
      "text/plain": [
       "86"
      ]
     },
     "execution_count": 6,
     "metadata": {},
     "output_type": "execute_result"
    }
   ],
   "source": [
    "dir_list = glob.glob(os.path.join('/workspace/voxelpose-pytorch/data/panoptic-toolbox/*'))\n",
    "dir_list.sort()\n",
    "dir_list_basename = [os.path.basename(x) for x in dir_list]\n",
    "len(dir_list_basename)\n",
    "# dir_list_basename[:-7]\n",
    "# dir_list_basename"
   ]
  },
  {
   "cell_type": "code",
   "execution_count": 9,
   "id": "288b74bf",
   "metadata": {},
   "outputs": [],
   "source": [
    "all_seq_list = ['160224_haggling1',\n",
    " '160224_mafia1',\n",
    " '160224_mafia2',\n",
    " '160224_ultimatum1',\n",
    " '160224_ultimatum2',\n",
    " '160226_haggling1',\n",
    " '160226_mafia1',\n",
    " '160226_mafia2',\n",
    " '160226_ultimatum1',\n",
    " '160401_ian1',\n",
    " '160401_ian2',\n",
    " '160401_ian3',\n",
    " '160422_haggling1',\n",
    " '160422_mafia2',\n",
    " '160422_ultimatum1',\n",
    " '160906_band1',\n",
    " '160906_band2',\n",
    " '160906_ian1',\n",
    " '160906_ian2',\n",
    " '160906_ian3',\n",
    " '160906_ian5',\n",
    " '160906_pizza1',\n",
    " '161029_flute1',\n",
    " '161029_piano1',\n",
    " '161029_piano2',\n",
    " '161029_piano3',\n",
    " '161029_piano4',\n",
    " '170221_haggling_b2',\n",
    " '170221_haggling_b3',\n",
    " '170221_haggling_m1',\n",
    " '170221_haggling_m2',\n",
    " '170221_haggling_m3',\n",
    " '170224_haggling_a1',\n",
    " '170224_haggling_a2',\n",
    " '170224_haggling_a3',\n",
    " '170224_haggling_b1',\n",
    " '170224_haggling_b2',\n",
    " '170224_haggling_b3',\n",
    " '170228_haggling_a1',\n",
    " '170228_haggling_a2',\n",
    " '170228_haggling_a3',\n",
    " '170228_haggling_b1',\n",
    " '170228_haggling_b2',\n",
    " '170228_haggling_b3',\n",
    " '170307_dance1',\n",
    " '170307_dance2',\n",
    " '170307_dance3',\n",
    " '170307_dance4',\n",
    " '170307_dance5',\n",
    " '170307_dance6',\n",
    " '170404_haggling_a1',\n",
    " '170404_haggling_a2',\n",
    " '170404_haggling_a3',\n",
    " '170404_haggling_b1',\n",
    " '170404_haggling_b2',\n",
    " '170404_haggling_b3',\n",
    " '170407_haggling_a1',\n",
    " '170407_haggling_a2',\n",
    " '170407_haggling_a3',\n",
    " '170407_haggling_b1',\n",
    " '170407_haggling_b2',\n",
    " '170407_haggling_b3',\n",
    " '170407_office2',\n",
    " '170915_office1',\n",
    " '170915_toddler2',\n",
    " '170915_toddler3',\n",
    " '170915_toddler4',\n",
    " '171026_cello1',\n",
    " '171026_cello2',\n",
    " '171026_cello3',\n",
    " '171026_pose1',\n",
    " '171026_pose2',\n",
    " '171026_pose3',\n",
    " '171204_pose1',\n",
    " '171204_pose2',\n",
    " '171204_pose3',\n",
    " '171204_pose4',\n",
    " '171204_pose5',\n",
    " '171204_pose6',\n",
    "                ]"
   ]
  },
  {
   "cell_type": "code",
   "execution_count": 62,
   "id": "04a8ea37",
   "metadata": {},
   "outputs": [],
   "source": [
    "# check existence!"
   ]
  },
  {
   "cell_type": "code",
   "execution_count": 11,
   "id": "cc4b548f",
   "metadata": {},
   "outputs": [
    {
     "name": "stdout",
     "output_type": "stream",
     "text": [
      "79\n",
      "79\n"
     ]
    }
   ],
   "source": [
    "checker = 0\n",
    "for seq in all_seq_list:\n",
    "    isIn = seq in dir_list_basename\n",
    "    checker += int(isIn)\n",
    "print(checker)\n",
    "print(len(all_seq_list))"
   ]
  },
  {
   "cell_type": "code",
   "execution_count": 66,
   "id": "e0f56fef",
   "metadata": {},
   "outputs": [],
   "source": [
    "# check hdVideos!"
   ]
  },
  {
   "cell_type": "code",
   "execution_count": 12,
   "id": "40740d03",
   "metadata": {
    "scrolled": true
   },
   "outputs": [
    {
     "name": "stdout",
     "output_type": "stream",
     "text": [
      "79\n"
     ]
    }
   ],
   "source": [
    "root_dir = '/workspace/voxelpose-pytorch/data/panoptic-toolbox'\n",
    "exist_seq_list = []\n",
    "for seq in all_seq_list:\n",
    "    hdVideos_dir = os.path.join(root_dir, seq, 'hdVideos')\n",
    "    existence_03 = os.path.exists(os.path.join(hdVideos_dir, 'hd_00_03.mp4'))\n",
    "    existence_06 = os.path.exists(os.path.join(hdVideos_dir, 'hd_00_06.mp4'))\n",
    "    existence_12 = os.path.exists(os.path.join(hdVideos_dir, 'hd_00_12.mp4'))\n",
    "    existence_13 = os.path.exists(os.path.join(hdVideos_dir, 'hd_00_13.mp4'))\n",
    "    existence_23 = os.path.exists(os.path.join(hdVideos_dir, 'hd_00_23.mp4'))\n",
    "    \n",
    "    count = existence_03 + existence_06 + existence_12 + existence_13 + existence_23\n",
    "    \n",
    "    if count == 5:\n",
    "        exist_seq_list.append(seq)\n",
    "    else:\n",
    "        print('seq {} has no 5 videos!'.format(seq))\n",
    "\n",
    "print(len(exist_seq_list))"
   ]
  },
  {
   "cell_type": "code",
   "execution_count": 68,
   "id": "cae32e6f",
   "metadata": {
    "scrolled": true
   },
   "outputs": [],
   "source": [
    "# cannot download those three sequences.\n",
    "# !./scripts/getData.sh 160317_moonbaby1 0 5\n",
    "# !./scripts/getData.sh 160317_moonbaby2 0 5\n",
    "# !./scripts/getData.sh 160317_moonbaby3 0 5"
   ]
  },
  {
   "cell_type": "code",
   "execution_count": null,
   "id": "5e921413",
   "metadata": {},
   "outputs": [],
   "source": []
  },
  {
   "cell_type": "code",
   "execution_count": 69,
   "id": "9fdec242",
   "metadata": {},
   "outputs": [],
   "source": [
    "# check hdImgs"
   ]
  },
  {
   "cell_type": "code",
   "execution_count": 27,
   "id": "f651707b",
   "metadata": {},
   "outputs": [
    {
     "name": "stdout",
     "output_type": "stream",
     "text": [
      "different image seq exist. seq : 160401_ian1\n",
      "0\n",
      "0\n",
      "0\n",
      "0\n",
      "0\n",
      "different image seq exist. seq : 160401_ian2\n",
      "0\n",
      "0\n",
      "0\n",
      "0\n",
      "0\n",
      "different image seq exist. seq : 160401_ian3\n",
      "0\n",
      "0\n",
      "0\n",
      "0\n",
      "0\n",
      "different image seq exist. seq : 160906_ian1\n",
      "0\n",
      "0\n",
      "0\n",
      "0\n",
      "0\n",
      "different image seq exist. seq : 160906_ian2\n",
      "0\n",
      "0\n",
      "0\n",
      "0\n",
      "0\n",
      "different image seq exist. seq : 160906_ian3\n",
      "0\n",
      "0\n",
      "0\n",
      "0\n",
      "0\n",
      "different image seq exist. seq : 160906_ian5\n",
      "0\n",
      "0\n",
      "0\n",
      "0\n",
      "0\n",
      "different image seq exist. seq : 160906_pizza1\n",
      "0\n",
      "0\n",
      "0\n",
      "0\n",
      "0\n",
      "different image seq exist. seq : 170221_haggling_b2\n",
      "0\n",
      "0\n",
      "0\n",
      "0\n",
      "0\n",
      "different image seq exist. seq : 170221_haggling_b3\n",
      "0\n",
      "0\n",
      "0\n",
      "0\n",
      "0\n",
      "different image seq exist. seq : 170221_haggling_m1\n",
      "0\n",
      "0\n",
      "0\n",
      "0\n",
      "0\n",
      "different image seq exist. seq : 170221_haggling_m2\n",
      "0\n",
      "0\n",
      "0\n",
      "0\n",
      "0\n",
      "different image seq exist. seq : 170221_haggling_m3\n",
      "0\n",
      "0\n",
      "0\n",
      "0\n",
      "0\n",
      "different image seq exist. seq : 170224_haggling_a1\n",
      "0\n",
      "0\n",
      "0\n",
      "0\n",
      "0\n",
      "different image seq exist. seq : 170224_haggling_a2\n",
      "0\n",
      "0\n",
      "0\n",
      "0\n",
      "0\n",
      "different image seq exist. seq : 170224_haggling_a3\n",
      "0\n",
      "0\n",
      "0\n",
      "0\n",
      "0\n",
      "different image seq exist. seq : 170224_haggling_b1\n",
      "0\n",
      "0\n",
      "0\n",
      "0\n",
      "0\n",
      "different image seq exist. seq : 170224_haggling_b2\n",
      "0\n",
      "0\n",
      "0\n",
      "0\n",
      "0\n",
      "different image seq exist. seq : 170224_haggling_b3\n",
      "0\n",
      "0\n",
      "0\n",
      "0\n",
      "0\n",
      "different image seq exist. seq : 170228_haggling_a1\n",
      "0\n",
      "0\n",
      "0\n",
      "0\n",
      "0\n",
      "different image seq exist. seq : 170228_haggling_a2\n",
      "0\n",
      "0\n",
      "0\n",
      "0\n",
      "0\n",
      "different image seq exist. seq : 170228_haggling_a3\n",
      "0\n",
      "0\n",
      "0\n",
      "0\n",
      "0\n",
      "different image seq exist. seq : 170228_haggling_b1\n",
      "0\n",
      "0\n",
      "0\n",
      "0\n",
      "0\n",
      "different image seq exist. seq : 170228_haggling_b2\n",
      "0\n",
      "0\n",
      "0\n",
      "0\n",
      "0\n",
      "different image seq exist. seq : 170228_haggling_b3\n",
      "0\n",
      "0\n",
      "0\n",
      "0\n",
      "0\n",
      "different image seq exist. seq : 170307_dance1\n",
      "0\n",
      "0\n",
      "0\n",
      "0\n",
      "0\n",
      "different image seq exist. seq : 170307_dance2\n",
      "0\n",
      "0\n",
      "0\n",
      "0\n",
      "0\n",
      "different image seq exist. seq : 170307_dance3\n",
      "0\n",
      "0\n",
      "0\n",
      "0\n",
      "0\n",
      "different image seq exist. seq : 170307_dance4\n",
      "0\n",
      "0\n",
      "0\n",
      "0\n",
      "0\n",
      "different image seq exist. seq : 170307_dance5\n",
      "0\n",
      "0\n",
      "0\n",
      "0\n",
      "0\n",
      "different image seq exist. seq : 170307_dance6\n",
      "0\n",
      "0\n",
      "0\n",
      "0\n",
      "0\n",
      "different image seq exist. seq : 170404_haggling_a1\n",
      "0\n",
      "0\n",
      "0\n",
      "0\n",
      "0\n",
      "different image seq exist. seq : 170404_haggling_a2\n",
      "0\n",
      "0\n",
      "0\n",
      "0\n",
      "0\n",
      "different image seq exist. seq : 170404_haggling_a3\n",
      "0\n",
      "0\n",
      "0\n",
      "0\n",
      "0\n",
      "different image seq exist. seq : 170404_haggling_b1\n",
      "0\n",
      "0\n",
      "0\n",
      "0\n",
      "0\n",
      "different image seq exist. seq : 170404_haggling_b2\n",
      "0\n",
      "0\n",
      "0\n",
      "0\n",
      "0\n",
      "different image seq exist. seq : 170404_haggling_b3\n",
      "0\n",
      "0\n",
      "0\n",
      "0\n",
      "0\n",
      "different image seq exist. seq : 170407_haggling_a1\n",
      "0\n",
      "0\n",
      "0\n",
      "0\n",
      "0\n",
      "different image seq exist. seq : 170407_haggling_a2\n",
      "0\n",
      "0\n",
      "0\n",
      "0\n",
      "0\n",
      "different image seq exist. seq : 170407_haggling_a3\n",
      "0\n",
      "0\n",
      "0\n",
      "0\n",
      "0\n",
      "different image seq exist. seq : 170407_haggling_b1\n",
      "0\n",
      "0\n",
      "0\n",
      "0\n",
      "0\n",
      "different image seq exist. seq : 170407_haggling_b2\n",
      "0\n",
      "0\n",
      "0\n",
      "0\n",
      "0\n",
      "different image seq exist. seq : 170407_haggling_b3\n",
      "0\n",
      "0\n",
      "0\n",
      "0\n",
      "0\n",
      "different image seq exist. seq : 170407_office2\n",
      "0\n",
      "0\n",
      "0\n",
      "0\n",
      "0\n",
      "different image seq exist. seq : 170915_office1\n",
      "0\n",
      "0\n",
      "0\n",
      "0\n",
      "0\n",
      "different image seq exist. seq : 170915_toddler2\n",
      "0\n",
      "0\n",
      "0\n",
      "0\n",
      "0\n",
      "different image seq exist. seq : 170915_toddler3\n",
      "0\n",
      "0\n",
      "0\n",
      "0\n",
      "0\n",
      "different image seq exist. seq : 170915_toddler4\n",
      "0\n",
      "0\n",
      "0\n",
      "0\n",
      "0\n",
      "31\n"
     ]
    }
   ],
   "source": [
    "root_dir = '/workspace/voxelpose-pytorch/data/panoptic-toolbox'\n",
    "correct_seq_list = []\n",
    "# for seq in exist_seq_list:\n",
    "for seq in exist_seq_list:\n",
    "    hdImgs_dir = os.path.join(root_dir, seq, 'hdImgs')\n",
    "    hdImgs_list_03 = len(glob.glob(os.path.join(hdImgs_dir, '00_03', '*')))\n",
    "    hdImgs_list_06 = len(glob.glob(os.path.join(hdImgs_dir, '00_06', '*')))\n",
    "    hdImgs_list_12 = len(glob.glob(os.path.join(hdImgs_dir, '00_12', '*')))\n",
    "    hdImgs_list_13 = len(glob.glob(os.path.join(hdImgs_dir, '00_13', '*')))\n",
    "    hdImgs_list_23 = len(glob.glob(os.path.join(hdImgs_dir, '00_23', '*')))\n",
    "    \n",
    "    len_list = [hdImgs_list_03, hdImgs_list_06, hdImgs_list_12, hdImgs_list_13, hdImgs_list_23]\n",
    "    \n",
    "    if np.max(len_list) == np.min(len_list) and np.max(len_list) > 1000:\n",
    "        correct_seq_list.append(seq)\n",
    "    else:\n",
    "        print('different image seq exist. seq : {}'.format(seq))\n",
    "        print(hdImgs_list_03)\n",
    "        print(hdImgs_list_06)\n",
    "        print(hdImgs_list_12)\n",
    "        print(hdImgs_list_13)\n",
    "        print(hdImgs_list_23)\n",
    "    \n",
    "print(len(correct_seq_list))"
   ]
  },
  {
   "cell_type": "code",
   "execution_count": 28,
   "id": "318d88e8",
   "metadata": {
    "scrolled": true
   },
   "outputs": [],
   "source": [
    "# no use.\n",
    "# !./scripts/extractAll.sh\t170221_haggling_b1\n",
    "# maybe 170221_haggling_b1 has no problem..."
   ]
  },
  {
   "cell_type": "code",
   "execution_count": 29,
   "id": "c576d7d1",
   "metadata": {},
   "outputs": [
    {
     "data": {
      "text/plain": [
       "['160224_haggling1',\n",
       " '160224_mafia1',\n",
       " '160224_mafia2',\n",
       " '160224_ultimatum1',\n",
       " '160224_ultimatum2',\n",
       " '160226_haggling1',\n",
       " '160226_mafia1',\n",
       " '160226_mafia2',\n",
       " '160226_ultimatum1',\n",
       " '160422_haggling1',\n",
       " '160422_mafia2',\n",
       " '160422_ultimatum1',\n",
       " '160906_band1',\n",
       " '160906_band2',\n",
       " '161029_flute1',\n",
       " '161029_piano1',\n",
       " '161029_piano2',\n",
       " '161029_piano3',\n",
       " '161029_piano4',\n",
       " '171026_cello1',\n",
       " '171026_cello2',\n",
       " '171026_cello3',\n",
       " '171026_pose1',\n",
       " '171026_pose2',\n",
       " '171026_pose3',\n",
       " '171204_pose1',\n",
       " '171204_pose2',\n",
       " '171204_pose3',\n",
       " '171204_pose4',\n",
       " '171204_pose5',\n",
       " '171204_pose6']"
      ]
     },
     "execution_count": 29,
     "metadata": {},
     "output_type": "execute_result"
    }
   ],
   "source": [
    "correct_seq_list"
   ]
  },
  {
   "cell_type": "code",
   "execution_count": 30,
   "id": "928db628",
   "metadata": {},
   "outputs": [
    {
     "data": {
      "text/plain": [
       "31"
      ]
     },
     "execution_count": 30,
     "metadata": {},
     "output_type": "execute_result"
    }
   ],
   "source": [
    "len(correct_seq_list)"
   ]
  },
  {
   "cell_type": "code",
   "execution_count": 31,
   "id": "b913fc7d",
   "metadata": {},
   "outputs": [
    {
     "data": {
      "text/plain": [
       "79"
      ]
     },
     "execution_count": 31,
     "metadata": {},
     "output_type": "execute_result"
    }
   ],
   "source": [
    "len(all_seq_list)"
   ]
  },
  {
   "cell_type": "code",
   "execution_count": 76,
   "id": "abce29ad",
   "metadata": {},
   "outputs": [
    {
     "data": {
      "text/plain": [
       "'\\n/workspace/voxelpose-pytorch/data/panoptic-toolbox/160906_band3\\n/workspace/voxelpose-pytorch/data/panoptic-toolbox/170221_haggling_b1\\n/workspace/voxelpose-pytorch/data/panoptic-toolbox/160317_moonbaby1\\n/workspace/voxelpose-pytorch/data/panoptic-toolbox/160317_moonbaby2\\n/workspace/voxelpose-pytorch/data/panoptic-toolbox/160317_moonbaby3\\n'"
      ]
     },
     "execution_count": 76,
     "metadata": {},
     "output_type": "execute_result"
    }
   ],
   "source": [
    "incorrect_seq = [x for x in all_seq_list if x not in correct_seq_list]\n",
    "\"\"\"\n",
    "/workspace/voxelpose-pytorch/data/panoptic-toolbox/160906_band3\n",
    "/workspace/voxelpose-pytorch/data/panoptic-toolbox/170221_haggling_b1 <- noraml seq..?\n",
    "/workspace/voxelpose-pytorch/data/panoptic-toolbox/160317_moonbaby1\n",
    "/workspace/voxelpose-pytorch/data/panoptic-toolbox/160317_moonbaby2\n",
    "/workspace/voxelpose-pytorch/data/panoptic-toolbox/160317_moonbaby3\n",
    "\"\"\""
   ]
  },
  {
   "cell_type": "code",
   "execution_count": null,
   "id": "f3391735",
   "metadata": {},
   "outputs": [],
   "source": [
    "# delete incorrect seq"
   ]
  },
  {
   "cell_type": "code",
   "execution_count": 33,
   "id": "2ca0d208",
   "metadata": {},
   "outputs": [],
   "source": [
    "import shutil"
   ]
  },
  {
   "cell_type": "code",
   "execution_count": 50,
   "id": "594f22d1",
   "metadata": {},
   "outputs": [
    {
     "name": "stdout",
     "output_type": "stream",
     "text": [
      "/workspace/voxelpose-pytorch/data/panoptic-toolbox/160906_band3\n",
      "/workspace/voxelpose-pytorch/data/panoptic-toolbox/170221_haggling_b1\n",
      "/workspace/voxelpose-pytorch/data/panoptic-toolbox/160317_moonbaby1\n",
      "/workspace/voxelpose-pytorch/data/panoptic-toolbox/160317_moonbaby2\n",
      "/workspace/voxelpose-pytorch/data/panoptic-toolbox/160317_moonbaby3\n"
     ]
    }
   ],
   "source": [
    "\n",
    "# root_dir = '/workspace/voxelpose-pytorch/data/panoptic-toolbox'\n",
    "# correct_seq_list = []\n",
    "# for seq in incorrect_seq:\n",
    "#     incorrect_dir = os.path.join(root_dir, seq)\n",
    "#     print(incorrect_dir)\n",
    "#     shutil.rmtree(incorrect_dir)"
   ]
  },
  {
   "cell_type": "code",
   "execution_count": null,
   "id": "5a0bf725",
   "metadata": {},
   "outputs": [],
   "source": []
  },
  {
   "cell_type": "code",
   "execution_count": null,
   "id": "3f3c11c8",
   "metadata": {},
   "outputs": [],
   "source": []
  },
  {
   "cell_type": "code",
   "execution_count": null,
   "id": "9c95721e",
   "metadata": {},
   "outputs": [],
   "source": [
    "# delete hdVedieos!"
   ]
  },
  {
   "cell_type": "code",
   "execution_count": 32,
   "id": "268fb493",
   "metadata": {},
   "outputs": [
    {
     "data": {
      "text/plain": [
       "31"
      ]
     },
     "execution_count": 32,
     "metadata": {},
     "output_type": "execute_result"
    }
   ],
   "source": [
    "len(correct_seq_list)"
   ]
  },
  {
   "cell_type": "code",
   "execution_count": 38,
   "id": "20fa3db2",
   "metadata": {
    "scrolled": true
   },
   "outputs": [],
   "source": [
    "# root_dir = '/workspace/voxelpose-pytorch/data/panoptic-toolbox'\n",
    "# for seq in correct_seq_list:\n",
    "#     hdVideos_dir = os.path.join(root_dir, seq, 'hdVideos')\n",
    "#     print(hdVideos_dir)\n",
    "#     shutil.rmtree(hdVideos_dir)"
   ]
  },
  {
   "cell_type": "code",
   "execution_count": 39,
   "id": "1581d9c0",
   "metadata": {
    "scrolled": true
   },
   "outputs": [
    {
     "data": {
      "text/plain": [
       "['160224_haggling1',\n",
       " '160224_mafia1',\n",
       " '160224_mafia2',\n",
       " '160224_ultimatum1',\n",
       " '160224_ultimatum2',\n",
       " '160226_haggling1',\n",
       " '160226_mafia1',\n",
       " '160226_mafia2',\n",
       " '160226_ultimatum1',\n",
       " '160422_haggling1',\n",
       " '160422_mafia2',\n",
       " '160422_ultimatum1',\n",
       " '160906_band1',\n",
       " '160906_band2',\n",
       " '161029_flute1',\n",
       " '161029_piano1',\n",
       " '161029_piano2',\n",
       " '161029_piano3',\n",
       " '161029_piano4',\n",
       " '171026_cello1',\n",
       " '171026_cello2',\n",
       " '171026_cello3',\n",
       " '171026_pose1',\n",
       " '171026_pose2',\n",
       " '171026_pose3',\n",
       " '171204_pose1',\n",
       " '171204_pose2',\n",
       " '171204_pose3',\n",
       " '171204_pose4',\n",
       " '171204_pose5',\n",
       " '171204_pose6']"
      ]
     },
     "execution_count": 39,
     "metadata": {},
     "output_type": "execute_result"
    }
   ],
   "source": [
    "correct_seq_list"
   ]
  },
  {
   "cell_type": "code",
   "execution_count": 41,
   "id": "3ef441c5",
   "metadata": {},
   "outputs": [
    {
     "name": "stdout",
     "output_type": "stream",
     "text": [
      "/workspace/voxelpose-pytorch/data/panoptic-toolbox/data/160224_haggling1\n",
      "/workspace/voxelpose-pytorch/data/panoptic-toolbox/data/160224_mafia1\n",
      "/workspace/voxelpose-pytorch/data/panoptic-toolbox/data/160224_mafia2\n",
      "/workspace/voxelpose-pytorch/data/panoptic-toolbox/data/160224_ultimatum1\n",
      "/workspace/voxelpose-pytorch/data/panoptic-toolbox/data/160224_ultimatum2\n",
      "/workspace/voxelpose-pytorch/data/panoptic-toolbox/data/160226_haggling1\n",
      "/workspace/voxelpose-pytorch/data/panoptic-toolbox/data/160226_mafia1\n",
      "/workspace/voxelpose-pytorch/data/panoptic-toolbox/data/160226_mafia2\n",
      "/workspace/voxelpose-pytorch/data/panoptic-toolbox/data/160226_ultimatum1\n",
      "/workspace/voxelpose-pytorch/data/panoptic-toolbox/data/160422_haggling1\n",
      "/workspace/voxelpose-pytorch/data/panoptic-toolbox/data/160422_mafia2\n",
      "/workspace/voxelpose-pytorch/data/panoptic-toolbox/data/160422_ultimatum1\n",
      "/workspace/voxelpose-pytorch/data/panoptic-toolbox/data/160906_band1\n",
      "/workspace/voxelpose-pytorch/data/panoptic-toolbox/data/160906_band2\n",
      "/workspace/voxelpose-pytorch/data/panoptic-toolbox/data/161029_flute1\n",
      "/workspace/voxelpose-pytorch/data/panoptic-toolbox/data/161029_piano1\n",
      "/workspace/voxelpose-pytorch/data/panoptic-toolbox/data/161029_piano2\n",
      "/workspace/voxelpose-pytorch/data/panoptic-toolbox/data/161029_piano3\n",
      "/workspace/voxelpose-pytorch/data/panoptic-toolbox/data/161029_piano4\n",
      "/workspace/voxelpose-pytorch/data/panoptic-toolbox/data/171026_cello1\n",
      "/workspace/voxelpose-pytorch/data/panoptic-toolbox/data/171026_cello2\n",
      "/workspace/voxelpose-pytorch/data/panoptic-toolbox/data/171026_cello3\n",
      "/workspace/voxelpose-pytorch/data/panoptic-toolbox/data/171026_pose1\n",
      "/workspace/voxelpose-pytorch/data/panoptic-toolbox/data/171026_pose2\n",
      "/workspace/voxelpose-pytorch/data/panoptic-toolbox/data/171026_pose3\n",
      "/workspace/voxelpose-pytorch/data/panoptic-toolbox/data/171204_pose1\n",
      "/workspace/voxelpose-pytorch/data/panoptic-toolbox/data/171204_pose2\n",
      "/workspace/voxelpose-pytorch/data/panoptic-toolbox/data/171204_pose3\n",
      "/workspace/voxelpose-pytorch/data/panoptic-toolbox/data/171204_pose4\n",
      "/workspace/voxelpose-pytorch/data/panoptic-toolbox/data/171204_pose5\n",
      "/workspace/voxelpose-pytorch/data/panoptic-toolbox/data/171204_pose6\n"
     ]
    }
   ],
   "source": [
    "# move files\n",
    "# root_dir = '/workspace/voxelpose-pytorch/data/panoptic-toolbox'\n",
    "# for seq in correct_seq_list:\n",
    "#     seq_src_dir = os.path.join(root_dir, seq)\n",
    "#     seq_dst_dir = os.path.join(root_dir, 'data', seq)\n",
    "#     print(seq_dst_dir)\n",
    "#     shutil.move(seq_src_dir, seq_dst_dir)"
   ]
  },
  {
   "cell_type": "code",
   "execution_count": null,
   "id": "265da664",
   "metadata": {},
   "outputs": [],
   "source": []
  }
 ],
 "metadata": {
  "kernelspec": {
   "display_name": "Python 3",
   "language": "python",
   "name": "python3"
  },
  "language_info": {
   "codemirror_mode": {
    "name": "ipython",
    "version": 3
   },
   "file_extension": ".py",
   "mimetype": "text/x-python",
   "name": "python",
   "nbconvert_exporter": "python",
   "pygments_lexer": "ipython3",
   "version": "3.7.10"
  }
 },
 "nbformat": 4,
 "nbformat_minor": 5
}
